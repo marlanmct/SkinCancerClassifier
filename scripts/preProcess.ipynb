{
 "cells": [
  {
   "cell_type": "code",
   "execution_count": 1,
   "metadata": {},
   "outputs": [],
   "source": [
    "from sklearn.model_selection import train_test_split\n",
    "from shutil import copyfile\n",
    "import numpy as np"
   ]
  },
  {
   "cell_type": "code",
   "execution_count": 5,
   "metadata": {},
   "outputs": [],
   "source": [
    "with open('ISIC2018_Task3_Training_GroundTruth.csv') as fin:\n",
    "    data = fin.read().split('\\n')\n",
    "    data = np.array(data)  #convert array to numpy type array for data split\n",
    "    x_train ,x_test = train_test_split(data,test_size=0.1)\n",
    "    \n",
    "    for row in x_train:\n",
    "        row = row.split(',')\n",
    "        for i, label in enumerate(row[1:]):\n",
    "            if(label == '1.0'):\n",
    "                if(i == 0): copyfile('../ISIC2018_Task3_Training_Input/'+row[0]+'.jpg', '../data/train/mel/'+row[0]+'.jpg')\n",
    "                elif(i == 1): copyfile('../ISIC2018_Task3_Training_Input/'+row[0]+'.jpg', '../data/train/nv/'+row[0]+'.jpg')\n",
    "                elif(i == 2): copyfile('../ISIC2018_Task3_Training_Input/'+row[0]+'.jpg', '../data/train/bcc/'+row[0]+'.jpg')\n",
    "                elif(i == 3): copyfile('../ISIC2018_Task3_Training_Input/'+row[0]+'.jpg', '../data/train/akiec/'+row[0]+'.jpg')\n",
    "                elif(i == 4): copyfile('../ISIC2018_Task3_Training_Input/'+row[0]+'.jpg', '../data/train/bkl/'+row[0]+'.jpg')\n",
    "                elif(i == 5): copyfile('../ISIC2018_Task3_Training_Input/'+row[0]+'.jpg', '../data/train/df/'+row[0]+'.jpg')\n",
    "                elif(i == 6): copyfile('../ISIC2018_Task3_Training_Input/'+row[0]+'.jpg', '../data/train/vasc/'+row[0]+'.jpg')\n",
    "                else: print('ERROR')\n",
    "                    \n",
    "    for row in x_test:\n",
    "        row = row.split(',')\n",
    "        for i, label in enumerate(row[1:]):\n",
    "            if(label == '1.0'):\n",
    "                if(i == 0): copyfile('../ISIC2018_Task3_Training_Input/'+row[0]+'.jpg', '../data/test/mel/'+row[0]+'.jpg')\n",
    "                elif(i == 1): copyfile('../ISIC2018_Task3_Training_Input/'+row[0]+'.jpg', '../data/test/nv/'+row[0]+'.jpg')\n",
    "                elif(i == 2): copyfile('../ISIC2018_Task3_Training_Input/'+row[0]+'.jpg', '../data/test/bcc/'+row[0]+'.jpg')\n",
    "                elif(i == 3): copyfile('../ISIC2018_Task3_Training_Input/'+row[0]+'.jpg', '../data/test/akiec/'+row[0]+'.jpg')\n",
    "                elif(i == 4): copyfile('../ISIC2018_Task3_Training_Input/'+row[0]+'.jpg', '../data/test/bkl/'+row[0]+'.jpg')\n",
    "                elif(i == 5): copyfile('../ISIC2018_Task3_Training_Input/'+row[0]+'.jpg', '../data/test/df/'+row[0]+'.jpg')\n",
    "                elif(i == 6): copyfile('../ISIC2018_Task3_Training_Input/'+row[0]+'.jpg', '../data/test/vasc/'+row[0]+'.jpg')\n",
    "                else: print('ERROR')\n",
    "            "
   ]
  }
 ],
 "metadata": {
  "kernelspec": {
   "display_name": "Python 3",
   "language": "python",
   "name": "python3"
  },
  "language_info": {
   "codemirror_mode": {
    "name": "ipython",
    "version": 3
   },
   "file_extension": ".py",
   "mimetype": "text/x-python",
   "name": "python",
   "nbconvert_exporter": "python",
   "pygments_lexer": "ipython3",
   "version": "3.7.4"
  }
 },
 "nbformat": 4,
 "nbformat_minor": 2
}
