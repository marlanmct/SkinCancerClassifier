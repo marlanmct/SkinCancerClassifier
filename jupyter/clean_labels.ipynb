{
 "cells": [
  {
   "cell_type": "code",
   "execution_count": null,
   "metadata": {},
   "outputs": [],
   "source": [
    "import csv\n"
   ]
  },
  {
   "cell_type": "code",
   "execution_count": null,
   "metadata": {},
   "outputs": [],
   "source": [
    "with open('/Volumes/SANDISK/data/ISIC2018_Task3_Training_GroundTruth.csv') as csvfile:\n",
    "    with open('/Volumes/SANDISK/data/ISIC2018_Task3_Training_GroundTruth_new.csv', 'w', newline='\\n') as outfile:\n",
    "        readCSV = csv.reader(csvfile, delimiter=',')\n",
    "        outwriter = csv.writer(outfile, delimiter=',', quoting=csv.QUOTE_NONE)\n",
    "        for row in readCSV:\n",
    "            #print(row)\n",
    "            if row[0] == 'image':\n",
    "                #output.append(row)\n",
    "                outwriter.writerow(['filename', 'label'])\n",
    "\n",
    "            else:\n",
    "                for i, label in enumerate(row[1:]):\n",
    "                    if label == '1.0':\n",
    "                        if i == 0:\n",
    "                             outwriter.writerow([row[0]+'.jpg', 'mel'])\n",
    "                        elif i == 1:\n",
    "                            outwriter.writerow([row[0]+'.jpg', 'nv'])\n",
    "                        elif i == 2:\n",
    "                            outwriter.writerow([row[0]+'.jpg', 'bcc'])\n",
    "                        elif i == 3:\n",
    "                            outwriter.writerow([row[0]+'.jpg', 'akiec'])\n",
    "                        elif i == 4:\n",
    "                            outwriter.writerow([row[0]+'.jpg', 'bkl'])\n",
    "                        elif i == 5:\n",
    "                            outwriter.writerow([row[0]+'.jpg', 'df'])\n",
    "                        else:\n",
    "                            outwriter.writerow([row[0]+'.jpg', 'vasc'])\n",
    "                    "
   ]
  }
 ],
 "metadata": {
  "kernelspec": {
   "display_name": "Python 3",
   "language": "python",
   "name": "python3"
  },
  "language_info": {
   "codemirror_mode": {
    "name": "ipython",
    "version": 3
   },
   "file_extension": ".py",
   "mimetype": "text/x-python",
   "name": "python",
   "nbconvert_exporter": "python",
   "pygments_lexer": "ipython3",
   "version": "3.8.5"
  }
 },
 "nbformat": 4,
 "nbformat_minor": 4
}